{
 "cells": [
  {
   "cell_type": "code",
   "execution_count": null,
   "id": "ea029413",
   "metadata": {},
   "outputs": [],
   "source": [
    "# Importamos las librerías necesarias:\n",
    "\n",
    "import pandas as pd\n",
    "import numpy as np\n",
    "import matplotlib.pyplot as plt\n",
    "import seaborn as sns\n",
    "\n",
    "pd.set_option('display.max_columns', None)\n",
    "pd.set_option('display.max_rows', None)"
   ]
  },
  {
   "cell_type": "code",
   "execution_count": null,
   "id": "ea1e89b0",
   "metadata": {},
   "outputs": [],
   "source": [
    "# Cargamos nuestra base de datos:\n",
    "\n",
    "df = pd.read_csv('Social_Media_Users.csv')"
   ]
  },
  {
   "cell_type": "code",
   "execution_count": null,
   "id": "d29a7807",
   "metadata": {},
   "outputs": [],
   "source": [
    "# Creamos la función para el EDA:\n",
    "\n",
    "def eda_basico(df):\n",
    "\n",
    "    print('🌷Ejemplo de datos del DF:')\n",
    "    display(df.head(3))\n",
    "    display(df.tail(3))\n",
    "    display(df.sample(3))\n",
    "    print('________________________________________________________________________________________________________')\n",
    "\n",
    "    print('🌻Número de Filas:')\n",
    "    display(df.shape[0])\n",
    "    print('________________________________________________________________________________________________________')\n",
    "\n",
    "    print('🌱Número de Columnas:')\n",
    "    display(df.shape[1])\n",
    "    print('________________________________________________________________________________________________________')\n",
    "\n",
    "    print('🌼Información de la tabla:')\n",
    "    display(df.info())\n",
    "    print('________________________________________________________________________________________________________')\n",
    "\n",
    "    print('🌑Nombre de las columnas:')\n",
    "    display(df.columns)\n",
    "    print('________________________________________________________________________________________________________')\n",
    "\n",
    "    print('🍄Descripción de los datos numéricos:')\n",
    "    num_cols = df.select_dtypes(include=['number'])\n",
    "    if not num_cols.empty:\n",
    "        display(num_cols.describe().T)\n",
    "    else:\n",
    "        print('⚠️ No hay columnas numéricas en el DataFrame.')\n",
    "    print('________________________________________________________________________________________________________')\n",
    "\n",
    "    print('🌋Descripción de los datos no-numéricos:')\n",
    "    cat_cols = df.select_dtypes(include='object')\n",
    "    if not cat_cols.empty:\n",
    "        display(cat_cols.describe(include='object').T)\n",
    "    else:\n",
    "        print('⚠️ No hay columnas categóricas (tipo object) en el DataFrame.')\n",
    "    print('________________________________________________________________________________________________________')\n",
    "\n",
    "    print('🍂Saber si hay datos únicos:')\n",
    "    display(df.nunique())\n",
    "    print('________________________________________________________________________________________________________')\n",
    "\n",
    "    print('🐖Que datos son nulos por columnas:')\n",
    "    display(df.isnull().sum())\n",
    "    print('________________________________________________________________________________________________________')\n",
    "\n",
    "    print('🐲Filas duplicadas:')\n",
    "    total_duplicados = df.duplicated().sum()\n",
    "    if total_duplicados > 0:\n",
    "        print(f'cantidad de duplicados: {total_duplicados}')\n",
    "        print('Primeros duplicados')\n",
    "        display(df[df.duplicated()].head(3))\n",
    "    else:\n",
    "        print('No hay duplicados')\n",
    "    print('________________________________________________________________________________________________________')\n",
    "\n",
    "    print('🪹 Columnas constantes (solo 1 valor único):')\n",
    "    constantes = df.columns[df.nunique() <= 1]\n",
    "    if len(constantes) > 0:\n",
    "        print(f'{len(constantes)} columnas con 1 valor único:')\n",
    "        display(constantes)\n",
    "    else:\n",
    "        print('No hay columnas constantes')\n",
    "    print('________________________________________________________________________________________________________')\n",
    "    \n",
    "    print('🚀 Valores únicos en columnas categóricas:')\n",
    "    for col in df.select_dtypes(include='object'):\n",
    "        print(f'🔸 {col}')\n",
    "        print('-----------------------------')\n",
    "        print(df[col].unique())\n",
    "        print('________________________________________________________________________________________________________')\n",
    "\n",
    "    print('🧬 Tipos de datos por columna:')\n",
    "    display(df.dtypes.value_counts())\n",
    "    print('________________________________________________________________________________________________________')"
   ]
  },
  {
   "cell_type": "code",
   "execution_count": 4,
   "id": "897c064a",
   "metadata": {},
   "outputs": [
    {
     "name": "stdout",
     "output_type": "stream",
     "text": [
      "🌷Ejemplo de datos del DF:\n"
     ]
    },
    {
     "data": {
      "text/html": [
       "<div>\n",
       "<style scoped>\n",
       "    .dataframe tbody tr th:only-of-type {\n",
       "        vertical-align: middle;\n",
       "    }\n",
       "\n",
       "    .dataframe tbody tr th {\n",
       "        vertical-align: top;\n",
       "    }\n",
       "\n",
       "    .dataframe thead th {\n",
       "        text-align: right;\n",
       "    }\n",
       "</style>\n",
       "<table border=\"1\" class=\"dataframe\">\n",
       "  <thead>\n",
       "    <tr style=\"text-align: right;\">\n",
       "      <th></th>\n",
       "      <th>Platform</th>\n",
       "      <th>Owner</th>\n",
       "      <th>Primary Usage</th>\n",
       "      <th>Country</th>\n",
       "      <th>Daily Time Spent (min)</th>\n",
       "      <th>Verified Account</th>\n",
       "      <th>Date Joined</th>\n",
       "    </tr>\n",
       "  </thead>\n",
       "  <tbody>\n",
       "    <tr>\n",
       "      <th>0</th>\n",
       "      <td>WhatsApp</td>\n",
       "      <td>Meta</td>\n",
       "      <td>Messaging</td>\n",
       "      <td>Switzerland</td>\n",
       "      <td>113.94</td>\n",
       "      <td>Yes</td>\n",
       "      <td>2019-03-03</td>\n",
       "    </tr>\n",
       "    <tr>\n",
       "      <th>1</th>\n",
       "      <td>WeChat</td>\n",
       "      <td>Tencent</td>\n",
       "      <td>Messaging and social media</td>\n",
       "      <td>Madagascar</td>\n",
       "      <td>49.63</td>\n",
       "      <td>Yes</td>\n",
       "      <td>2023-09-21</td>\n",
       "    </tr>\n",
       "    <tr>\n",
       "      <th>2</th>\n",
       "      <td>Snapchat</td>\n",
       "      <td>Snap Inc.</td>\n",
       "      <td>Multimedia messaging</td>\n",
       "      <td>Pitcairn Islands</td>\n",
       "      <td>29.01</td>\n",
       "      <td>Yes</td>\n",
       "      <td>2020-12-13</td>\n",
       "    </tr>\n",
       "  </tbody>\n",
       "</table>\n",
       "</div>"
      ],
      "text/plain": [
       "   Platform      Owner               Primary Usage           Country  \\\n",
       "0  WhatsApp       Meta                   Messaging       Switzerland   \n",
       "1    WeChat    Tencent  Messaging and social media        Madagascar   \n",
       "2  Snapchat  Snap Inc.        Multimedia messaging  Pitcairn Islands   \n",
       "\n",
       "   Daily Time Spent (min) Verified Account Date Joined  \n",
       "0                  113.94              Yes  2019-03-03  \n",
       "1                   49.63              Yes  2023-09-21  \n",
       "2                   29.01              Yes  2020-12-13  "
      ]
     },
     "metadata": {},
     "output_type": "display_data"
    },
    {
     "data": {
      "text/html": [
       "<div>\n",
       "<style scoped>\n",
       "    .dataframe tbody tr th:only-of-type {\n",
       "        vertical-align: middle;\n",
       "    }\n",
       "\n",
       "    .dataframe tbody tr th {\n",
       "        vertical-align: top;\n",
       "    }\n",
       "\n",
       "    .dataframe thead th {\n",
       "        text-align: right;\n",
       "    }\n",
       "</style>\n",
       "<table border=\"1\" class=\"dataframe\">\n",
       "  <thead>\n",
       "    <tr style=\"text-align: right;\">\n",
       "      <th></th>\n",
       "      <th>Platform</th>\n",
       "      <th>Owner</th>\n",
       "      <th>Primary Usage</th>\n",
       "      <th>Country</th>\n",
       "      <th>Daily Time Spent (min)</th>\n",
       "      <th>Verified Account</th>\n",
       "      <th>Date Joined</th>\n",
       "    </tr>\n",
       "  </thead>\n",
       "  <tbody>\n",
       "    <tr>\n",
       "      <th>9997</th>\n",
       "      <td>Quora</td>\n",
       "      <td>Quora Inc.</td>\n",
       "      <td>Q&amp;A knowledge sharing</td>\n",
       "      <td>Poland</td>\n",
       "      <td>87.88</td>\n",
       "      <td>No</td>\n",
       "      <td>2018-05-17</td>\n",
       "    </tr>\n",
       "    <tr>\n",
       "      <th>9998</th>\n",
       "      <td>Quora</td>\n",
       "      <td>Quora Inc.</td>\n",
       "      <td>Q&amp;A knowledge sharing</td>\n",
       "      <td>Lao People's Democratic Republic</td>\n",
       "      <td>205.69</td>\n",
       "      <td>Yes</td>\n",
       "      <td>2019-10-07</td>\n",
       "    </tr>\n",
       "    <tr>\n",
       "      <th>9999</th>\n",
       "      <td>Reddit</td>\n",
       "      <td>Reddit Inc.</td>\n",
       "      <td>Discussion forums and communities</td>\n",
       "      <td>Faroe Islands</td>\n",
       "      <td>272.93</td>\n",
       "      <td>Yes</td>\n",
       "      <td>2015-08-03</td>\n",
       "    </tr>\n",
       "  </tbody>\n",
       "</table>\n",
       "</div>"
      ],
      "text/plain": [
       "     Platform        Owner                      Primary Usage  \\\n",
       "9997    Quora   Quora Inc.              Q&A knowledge sharing   \n",
       "9998    Quora   Quora Inc.              Q&A knowledge sharing   \n",
       "9999   Reddit  Reddit Inc.  Discussion forums and communities   \n",
       "\n",
       "                               Country  Daily Time Spent (min)  \\\n",
       "9997                            Poland                   87.88   \n",
       "9998  Lao People's Democratic Republic                  205.69   \n",
       "9999                     Faroe Islands                  272.93   \n",
       "\n",
       "     Verified Account Date Joined  \n",
       "9997               No  2018-05-17  \n",
       "9998              Yes  2019-10-07  \n",
       "9999              Yes  2015-08-03  "
      ]
     },
     "metadata": {},
     "output_type": "display_data"
    },
    {
     "data": {
      "text/html": [
       "<div>\n",
       "<style scoped>\n",
       "    .dataframe tbody tr th:only-of-type {\n",
       "        vertical-align: middle;\n",
       "    }\n",
       "\n",
       "    .dataframe tbody tr th {\n",
       "        vertical-align: top;\n",
       "    }\n",
       "\n",
       "    .dataframe thead th {\n",
       "        text-align: right;\n",
       "    }\n",
       "</style>\n",
       "<table border=\"1\" class=\"dataframe\">\n",
       "  <thead>\n",
       "    <tr style=\"text-align: right;\">\n",
       "      <th></th>\n",
       "      <th>Platform</th>\n",
       "      <th>Owner</th>\n",
       "      <th>Primary Usage</th>\n",
       "      <th>Country</th>\n",
       "      <th>Daily Time Spent (min)</th>\n",
       "      <th>Verified Account</th>\n",
       "      <th>Date Joined</th>\n",
       "    </tr>\n",
       "  </thead>\n",
       "  <tbody>\n",
       "    <tr>\n",
       "      <th>9073</th>\n",
       "      <td>X (formerly Twitter)</td>\n",
       "      <td>X Corp.</td>\n",
       "      <td>Microblogging</td>\n",
       "      <td>Saint Lucia</td>\n",
       "      <td>56.02</td>\n",
       "      <td>No</td>\n",
       "      <td>2021-11-21</td>\n",
       "    </tr>\n",
       "    <tr>\n",
       "      <th>568</th>\n",
       "      <td>X (formerly Twitter)</td>\n",
       "      <td>X Corp.</td>\n",
       "      <td>Microblogging</td>\n",
       "      <td>South Africa</td>\n",
       "      <td>44.00</td>\n",
       "      <td>No</td>\n",
       "      <td>2020-02-27</td>\n",
       "    </tr>\n",
       "    <tr>\n",
       "      <th>2941</th>\n",
       "      <td>LinkedIn</td>\n",
       "      <td>Microsoft</td>\n",
       "      <td>Professional networking</td>\n",
       "      <td>Bouvet Island (Bouvetoya)</td>\n",
       "      <td>215.26</td>\n",
       "      <td>No</td>\n",
       "      <td>2022-03-16</td>\n",
       "    </tr>\n",
       "  </tbody>\n",
       "</table>\n",
       "</div>"
      ],
      "text/plain": [
       "                  Platform      Owner            Primary Usage  \\\n",
       "9073  X (formerly Twitter)    X Corp.            Microblogging   \n",
       "568   X (formerly Twitter)    X Corp.            Microblogging   \n",
       "2941              LinkedIn  Microsoft  Professional networking   \n",
       "\n",
       "                        Country  Daily Time Spent (min) Verified Account  \\\n",
       "9073                Saint Lucia                   56.02               No   \n",
       "568                South Africa                   44.00               No   \n",
       "2941  Bouvet Island (Bouvetoya)                  215.26               No   \n",
       "\n",
       "     Date Joined  \n",
       "9073  2021-11-21  \n",
       "568   2020-02-27  \n",
       "2941  2022-03-16  "
      ]
     },
     "metadata": {},
     "output_type": "display_data"
    },
    {
     "name": "stdout",
     "output_type": "stream",
     "text": [
      "________________________________________________________________________________________________________\n",
      "🌻Número de Filas:\n"
     ]
    },
    {
     "data": {
      "text/plain": [
       "10000"
      ]
     },
     "metadata": {},
     "output_type": "display_data"
    },
    {
     "name": "stdout",
     "output_type": "stream",
     "text": [
      "________________________________________________________________________________________________________\n",
      "🌱Número de Columnas:\n"
     ]
    },
    {
     "data": {
      "text/plain": [
       "7"
      ]
     },
     "metadata": {},
     "output_type": "display_data"
    },
    {
     "name": "stdout",
     "output_type": "stream",
     "text": [
      "________________________________________________________________________________________________________\n",
      "🌼Información de la tabla:\n",
      "<class 'pandas.core.frame.DataFrame'>\n",
      "RangeIndex: 10000 entries, 0 to 9999\n",
      "Data columns (total 7 columns):\n",
      " #   Column                  Non-Null Count  Dtype  \n",
      "---  ------                  --------------  -----  \n",
      " 0   Platform                10000 non-null  object \n",
      " 1   Owner                   10000 non-null  object \n",
      " 2   Primary Usage           10000 non-null  object \n",
      " 3   Country                 10000 non-null  object \n",
      " 4   Daily Time Spent (min)  10000 non-null  float64\n",
      " 5   Verified Account        10000 non-null  object \n",
      " 6   Date Joined             10000 non-null  object \n",
      "dtypes: float64(1), object(6)\n",
      "memory usage: 547.0+ KB\n"
     ]
    },
    {
     "data": {
      "text/plain": [
       "None"
      ]
     },
     "metadata": {},
     "output_type": "display_data"
    },
    {
     "name": "stdout",
     "output_type": "stream",
     "text": [
      "________________________________________________________________________________________________________\n",
      "🌑Nombre de las columnas:\n"
     ]
    },
    {
     "data": {
      "text/plain": [
       "Index(['Platform', 'Owner', 'Primary Usage', 'Country',\n",
       "       'Daily Time Spent (min)', 'Verified Account', 'Date Joined'],\n",
       "      dtype='object')"
      ]
     },
     "metadata": {},
     "output_type": "display_data"
    },
    {
     "name": "stdout",
     "output_type": "stream",
     "text": [
      "________________________________________________________________________________________________________\n",
      "🍄Descripción de los datos numéricos:\n"
     ]
    },
    {
     "data": {
      "text/html": [
       "<div>\n",
       "<style scoped>\n",
       "    .dataframe tbody tr th:only-of-type {\n",
       "        vertical-align: middle;\n",
       "    }\n",
       "\n",
       "    .dataframe tbody tr th {\n",
       "        vertical-align: top;\n",
       "    }\n",
       "\n",
       "    .dataframe thead th {\n",
       "        text-align: right;\n",
       "    }\n",
       "</style>\n",
       "<table border=\"1\" class=\"dataframe\">\n",
       "  <thead>\n",
       "    <tr style=\"text-align: right;\">\n",
       "      <th></th>\n",
       "      <th>count</th>\n",
       "      <th>mean</th>\n",
       "      <th>std</th>\n",
       "      <th>min</th>\n",
       "      <th>25%</th>\n",
       "      <th>50%</th>\n",
       "      <th>75%</th>\n",
       "      <th>max</th>\n",
       "    </tr>\n",
       "  </thead>\n",
       "  <tbody>\n",
       "    <tr>\n",
       "      <th>Daily Time Spent (min)</th>\n",
       "      <td>10000.0</td>\n",
       "      <td>152.211145</td>\n",
       "      <td>85.14275</td>\n",
       "      <td>5.02</td>\n",
       "      <td>78.92</td>\n",
       "      <td>152.735</td>\n",
       "      <td>225.6425</td>\n",
       "      <td>300.0</td>\n",
       "    </tr>\n",
       "  </tbody>\n",
       "</table>\n",
       "</div>"
      ],
      "text/plain": [
       "                          count        mean       std   min    25%      50%  \\\n",
       "Daily Time Spent (min)  10000.0  152.211145  85.14275  5.02  78.92  152.735   \n",
       "\n",
       "                             75%    max  \n",
       "Daily Time Spent (min)  225.6425  300.0  "
      ]
     },
     "metadata": {},
     "output_type": "display_data"
    },
    {
     "name": "stdout",
     "output_type": "stream",
     "text": [
      "________________________________________________________________________________________________________\n",
      "🌋Descripción de los datos no-numéricos:\n"
     ]
    },
    {
     "data": {
      "text/html": [
       "<div>\n",
       "<style scoped>\n",
       "    .dataframe tbody tr th:only-of-type {\n",
       "        vertical-align: middle;\n",
       "    }\n",
       "\n",
       "    .dataframe tbody tr th {\n",
       "        vertical-align: top;\n",
       "    }\n",
       "\n",
       "    .dataframe thead th {\n",
       "        text-align: right;\n",
       "    }\n",
       "</style>\n",
       "<table border=\"1\" class=\"dataframe\">\n",
       "  <thead>\n",
       "    <tr style=\"text-align: right;\">\n",
       "      <th></th>\n",
       "      <th>count</th>\n",
       "      <th>unique</th>\n",
       "      <th>top</th>\n",
       "      <th>freq</th>\n",
       "    </tr>\n",
       "  </thead>\n",
       "  <tbody>\n",
       "    <tr>\n",
       "      <th>Platform</th>\n",
       "      <td>10000</td>\n",
       "      <td>14</td>\n",
       "      <td>Reddit</td>\n",
       "      <td>764</td>\n",
       "    </tr>\n",
       "    <tr>\n",
       "      <th>Owner</th>\n",
       "      <td>10000</td>\n",
       "      <td>11</td>\n",
       "      <td>Meta</td>\n",
       "      <td>2857</td>\n",
       "    </tr>\n",
       "    <tr>\n",
       "      <th>Primary Usage</th>\n",
       "      <td>10000</td>\n",
       "      <td>13</td>\n",
       "      <td>Messaging</td>\n",
       "      <td>1375</td>\n",
       "    </tr>\n",
       "    <tr>\n",
       "      <th>Country</th>\n",
       "      <td>10000</td>\n",
       "      <td>243</td>\n",
       "      <td>Congo</td>\n",
       "      <td>82</td>\n",
       "    </tr>\n",
       "    <tr>\n",
       "      <th>Verified Account</th>\n",
       "      <td>10000</td>\n",
       "      <td>2</td>\n",
       "      <td>No</td>\n",
       "      <td>5006</td>\n",
       "    </tr>\n",
       "    <tr>\n",
       "      <th>Date Joined</th>\n",
       "      <td>10000</td>\n",
       "      <td>3423</td>\n",
       "      <td>2022-12-22</td>\n",
       "      <td>10</td>\n",
       "    </tr>\n",
       "  </tbody>\n",
       "</table>\n",
       "</div>"
      ],
      "text/plain": [
       "                  count unique         top  freq\n",
       "Platform          10000     14      Reddit   764\n",
       "Owner             10000     11        Meta  2857\n",
       "Primary Usage     10000     13   Messaging  1375\n",
       "Country           10000    243       Congo    82\n",
       "Verified Account  10000      2          No  5006\n",
       "Date Joined       10000   3423  2022-12-22    10"
      ]
     },
     "metadata": {},
     "output_type": "display_data"
    },
    {
     "name": "stdout",
     "output_type": "stream",
     "text": [
      "________________________________________________________________________________________________________\n",
      "🍂Saber si hay datos únicos:\n"
     ]
    },
    {
     "data": {
      "text/plain": [
       "Platform                    14\n",
       "Owner                       11\n",
       "Primary Usage               13\n",
       "Country                    243\n",
       "Daily Time Spent (min)    8481\n",
       "Verified Account             2\n",
       "Date Joined               3423\n",
       "dtype: int64"
      ]
     },
     "metadata": {},
     "output_type": "display_data"
    },
    {
     "name": "stdout",
     "output_type": "stream",
     "text": [
      "________________________________________________________________________________________________________\n",
      "🐖Que datos son nulos por columnas:\n"
     ]
    },
    {
     "data": {
      "text/plain": [
       "Platform                  0\n",
       "Owner                     0\n",
       "Primary Usage             0\n",
       "Country                   0\n",
       "Daily Time Spent (min)    0\n",
       "Verified Account          0\n",
       "Date Joined               0\n",
       "dtype: int64"
      ]
     },
     "metadata": {},
     "output_type": "display_data"
    },
    {
     "name": "stdout",
     "output_type": "stream",
     "text": [
      "________________________________________________________________________________________________________\n",
      "🐲Filas duplicadas:\n",
      "No hay duplicados\n",
      "________________________________________________________________________________________________________\n",
      "🪹 Columnas constantes (solo 1 valor único):\n",
      "No hay columnas constantes\n",
      "________________________________________________________________________________________________________\n",
      "🚀 Valores únicos en columnas categóricas:\n",
      "🔸 Platform\n",
      "-----------------------------\n",
      "['WhatsApp' 'WeChat' 'Snapchat' 'Instagram' 'Threads'\n",
      " 'X (formerly Twitter)' 'TikTok' 'Quora' 'Facebook' 'YouTube' 'Telegram'\n",
      " 'Reddit' 'LinkedIn' 'Pinterest']\n",
      "________________________________________________________________________________________________________\n",
      "🔸 Owner\n",
      "-----------------------------\n",
      "['Meta' 'Tencent' 'Snap Inc.' 'X Corp.' 'ByteDance' 'Quora Inc.' 'Google'\n",
      " 'Telegram FZ LLC' 'Reddit Inc.' 'Microsoft' 'Pinterest Inc.']\n",
      "________________________________________________________________________________________________________\n",
      "🔸 Primary Usage\n",
      "-----------------------------\n",
      "['Messaging' 'Messaging and social media' 'Multimedia messaging'\n",
      " 'Photo and video sharing' 'Text-based social networking' 'Microblogging'\n",
      " 'Short-form videos' 'Q&A knowledge sharing' 'Social networking'\n",
      " 'Video sharing' 'Discussion forums and communities'\n",
      " 'Professional networking' 'Visual discovery and bookmarking']\n",
      "________________________________________________________________________________________________________\n",
      "🔸 Country\n",
      "-----------------------------\n",
      "['Switzerland' 'Madagascar' 'Pitcairn Islands' 'Timor-Leste' 'Bermuda'\n",
      " 'Falkland Islands (Malvinas)' 'Mauritius' 'Uganda' 'Norway' 'Anguilla'\n",
      " 'Montenegro' 'Micronesia' 'China' 'Iceland' 'Andorra' 'Kuwait'\n",
      " 'Saint Pierre and Miquelon' 'Saint Helena' 'British Virgin Islands'\n",
      " 'Italy' 'Australia' 'Antarctica (the territory South of 60 deg S)'\n",
      " 'Latvia' 'Marshall Islands' 'Dominica' 'United Arab Emirates' 'Pakistan'\n",
      " 'Vietnam' 'Montserrat' 'Benin' 'Czech Republic' 'Sweden' 'Niger'\n",
      " 'Ecuador' 'Indonesia' 'Brunei Darussalam' 'Suriname' 'Lesotho' 'India'\n",
      " 'Malta' 'Venezuela' 'Vanuatu' 'Congo' 'Cambodia' 'Egypt'\n",
      " 'United States Minor Outlying Islands' 'Maldives' 'Sudan' 'Honduras'\n",
      " 'Afghanistan' 'Jersey' 'Tuvalu' 'France' 'Sierra Leone' 'American Samoa'\n",
      " 'Liberia' 'Burundi' 'Tokelau' 'Moldova' 'Israel' 'Myanmar' 'Saudi Arabia'\n",
      " 'French Southern Territories' 'Paraguay' 'Mayotte' 'Mauritania'\n",
      " 'Philippines' 'Equatorial Guinea' 'Uruguay' 'Nicaragua' 'Guadeloupe'\n",
      " 'French Guiana' 'Namibia' 'El Salvador' 'Barbados' 'Jordan' 'Costa Rica'\n",
      " 'Mongolia' 'Nepal' 'Belarus' 'Guernsey' 'Denmark' 'Saint Lucia' 'Ireland'\n",
      " 'Isle of Man' 'Zimbabwe' 'Dominican Republic' 'Aruba'\n",
      " 'Cocos (Keeling) Islands' 'South Africa' 'Wallis and Futuna'\n",
      " 'Russian Federation' \"Lao People's Democratic Republic\" 'Puerto Rico'\n",
      " 'Bahamas' 'Ukraine' 'New Zealand' 'Chile' 'Comoros' 'Serbia'\n",
      " 'Sao Tome and Principe'\n",
      " 'British Indian Ocean Territory (Chagos Archipelago)' 'Tonga' 'Armenia'\n",
      " 'Bhutan' 'Botswana' 'Nigeria' \"Cote d'Ivoire\" 'Western Sahara' 'Gabon'\n",
      " 'Lebanon' 'Turkmenistan' 'United States of America' 'Monaco' 'Taiwan'\n",
      " 'Azerbaijan' 'Austria' 'Gambia' 'Macao' 'Turkey' 'Palau'\n",
      " 'Christmas Island' 'Guinea' 'Algeria' 'Faroe Islands' 'Morocco'\n",
      " 'Solomon Islands' 'Portugal' 'Saint Barthelemy' 'Netherlands' 'Oman'\n",
      " 'Samoa' 'Korea' 'Heard Island and McDonald Islands' 'Cuba' 'Swaziland'\n",
      " 'San Marino' 'Norfolk Island' 'Canada' 'Germany' 'Antigua and Barbuda'\n",
      " 'Peru' 'Cameroon' 'North Macedonia' 'Guam' 'Palestinian Territory'\n",
      " 'Svalbard & Jan Mayen Islands' 'Djibouti' 'Burkina Faso' 'Sri Lanka'\n",
      " 'Somalia' 'Tajikistan' 'Belize' 'Chad' 'Ghana' 'Reunion' 'Kazakhstan'\n",
      " 'Rwanda' 'Tunisia' 'Central African Republic' 'Liechtenstein'\n",
      " 'Saint Kitts and Nevis' 'Bosnia and Herzegovina' 'Mozambique' 'Niue'\n",
      " 'Zambia' 'Panama' 'Romania' 'Poland' 'Bahrain' 'Hong Kong' 'Malawi'\n",
      " 'Haiti' 'Trinidad and Tobago' 'Spain' 'Ethiopia' 'Yemen' 'Slovenia'\n",
      " 'Cook Islands' 'Holy See (Vatican City State)' 'Greenland' 'Tanzania'\n",
      " 'Nauru' 'Togo' 'Kyrgyz Republic' 'Fiji' 'Colombia' 'Georgia' 'Thailand'\n",
      " 'Angola' 'Iran' 'Mali' 'United States Virgin Islands' 'Guyana'\n",
      " 'Seychelles' 'Netherlands Antilles' 'Greece' 'Slovakia (Slovak Republic)'\n",
      " 'Bulgaria' 'Northern Mariana Islands' 'Cyprus' 'Papua New Guinea'\n",
      " 'Argentina' 'Jamaica' 'New Caledonia' 'Croatia' 'Estonia'\n",
      " 'French Polynesia' 'Bangladesh' 'Senegal' 'Lithuania' 'Finland'\n",
      " 'Singapore' 'Saint Martin' 'Qatar' 'Bolivia'\n",
      " 'Saint Vincent and the Grenadines' 'Eritrea' 'Kenya' 'Guinea-Bissau'\n",
      " 'Uzbekistan' 'South Georgia and the South Sandwich Islands' 'Brazil'\n",
      " 'Kiribati' 'Japan' 'Luxembourg' 'Iraq' 'Martinique'\n",
      " 'Bouvet Island (Bouvetoya)' 'Grenada' 'Turks and Caicos Islands'\n",
      " 'Hungary' 'Malaysia' 'Mexico' 'United Kingdom' 'Cayman Islands'\n",
      " 'Libyan Arab Jamahiriya' 'Cape Verde' 'Guatemala' 'Gibraltar' 'Albania'\n",
      " 'Belgium' 'Syrian Arab Republic']\n",
      "________________________________________________________________________________________________________\n",
      "🔸 Verified Account\n",
      "-----------------------------\n",
      "['Yes' 'No']\n",
      "________________________________________________________________________________________________________\n",
      "🔸 Date Joined\n",
      "-----------------------------\n",
      "['2019-03-03' '2023-09-21' '2020-12-13' ... '2023-04-13' '2020-12-07'\n",
      " '2020-01-14']\n",
      "________________________________________________________________________________________________________\n",
      "🧬 Tipos de datos por columna:\n"
     ]
    },
    {
     "data": {
      "text/plain": [
       "object     6\n",
       "float64    1\n",
       "Name: count, dtype: int64"
      ]
     },
     "metadata": {},
     "output_type": "display_data"
    },
    {
     "name": "stdout",
     "output_type": "stream",
     "text": [
      "________________________________________________________________________________________________________\n"
     ]
    }
   ],
   "source": [
    "eda_basico(df)"
   ]
  },
  {
   "cell_type": "code",
   "execution_count": null,
   "id": "1768ec00",
   "metadata": {},
   "outputs": [],
   "source": [
    "# Generamos una columna nueva 'Year' en base a la de 'Date Joined' para tener el año de suscripción:\n",
    "\n",
    "df['Year'] = pd.to_datetime(df['Date Joined']).dt.year"
   ]
  },
  {
   "cell_type": "code",
   "execution_count": null,
   "id": "8b39f5f1",
   "metadata": {},
   "outputs": [],
   "source": [
    "df = df.dropna(how='all')\n",
    "\n",
    "# Guardamos la base de datos limpia:\n",
    "df.to_csv(\"Users_limpio.csv\", index=False)"
   ]
  },
  {
   "cell_type": "code",
   "execution_count": 7,
   "id": "e08d8902",
   "metadata": {},
   "outputs": [
    {
     "data": {
      "text/html": [
       "<div>\n",
       "<style scoped>\n",
       "    .dataframe tbody tr th:only-of-type {\n",
       "        vertical-align: middle;\n",
       "    }\n",
       "\n",
       "    .dataframe tbody tr th {\n",
       "        vertical-align: top;\n",
       "    }\n",
       "\n",
       "    .dataframe thead th {\n",
       "        text-align: right;\n",
       "    }\n",
       "</style>\n",
       "<table border=\"1\" class=\"dataframe\">\n",
       "  <thead>\n",
       "    <tr style=\"text-align: right;\">\n",
       "      <th></th>\n",
       "      <th>Platform</th>\n",
       "      <th>Owner</th>\n",
       "      <th>Primary Usage</th>\n",
       "      <th>Country</th>\n",
       "      <th>Daily Time Spent (min)</th>\n",
       "      <th>Verified Account</th>\n",
       "      <th>Date Joined</th>\n",
       "      <th>Year</th>\n",
       "    </tr>\n",
       "  </thead>\n",
       "  <tbody>\n",
       "    <tr>\n",
       "      <th>0</th>\n",
       "      <td>WhatsApp</td>\n",
       "      <td>Meta</td>\n",
       "      <td>Messaging</td>\n",
       "      <td>Switzerland</td>\n",
       "      <td>113.94</td>\n",
       "      <td>Yes</td>\n",
       "      <td>2019-03-03</td>\n",
       "      <td>2019</td>\n",
       "    </tr>\n",
       "    <tr>\n",
       "      <th>1</th>\n",
       "      <td>WeChat</td>\n",
       "      <td>Tencent</td>\n",
       "      <td>Messaging and social media</td>\n",
       "      <td>Madagascar</td>\n",
       "      <td>49.63</td>\n",
       "      <td>Yes</td>\n",
       "      <td>2023-09-21</td>\n",
       "      <td>2023</td>\n",
       "    </tr>\n",
       "    <tr>\n",
       "      <th>2</th>\n",
       "      <td>Snapchat</td>\n",
       "      <td>Snap Inc.</td>\n",
       "      <td>Multimedia messaging</td>\n",
       "      <td>Pitcairn Islands</td>\n",
       "      <td>29.01</td>\n",
       "      <td>Yes</td>\n",
       "      <td>2020-12-13</td>\n",
       "      <td>2020</td>\n",
       "    </tr>\n",
       "    <tr>\n",
       "      <th>3</th>\n",
       "      <td>Instagram</td>\n",
       "      <td>Meta</td>\n",
       "      <td>Photo and video sharing</td>\n",
       "      <td>Timor-Leste</td>\n",
       "      <td>295.43</td>\n",
       "      <td>Yes</td>\n",
       "      <td>2019-04-21</td>\n",
       "      <td>2019</td>\n",
       "    </tr>\n",
       "    <tr>\n",
       "      <th>4</th>\n",
       "      <td>Threads</td>\n",
       "      <td>Meta</td>\n",
       "      <td>Text-based social networking</td>\n",
       "      <td>Bermuda</td>\n",
       "      <td>71.78</td>\n",
       "      <td>No</td>\n",
       "      <td>2015-07-14</td>\n",
       "      <td>2015</td>\n",
       "    </tr>\n",
       "  </tbody>\n",
       "</table>\n",
       "</div>"
      ],
      "text/plain": [
       "    Platform      Owner                 Primary Usage           Country  \\\n",
       "0   WhatsApp       Meta                     Messaging       Switzerland   \n",
       "1     WeChat    Tencent    Messaging and social media        Madagascar   \n",
       "2   Snapchat  Snap Inc.          Multimedia messaging  Pitcairn Islands   \n",
       "3  Instagram       Meta       Photo and video sharing       Timor-Leste   \n",
       "4    Threads       Meta  Text-based social networking           Bermuda   \n",
       "\n",
       "   Daily Time Spent (min) Verified Account Date Joined  Year  \n",
       "0                  113.94              Yes  2019-03-03  2019  \n",
       "1                   49.63              Yes  2023-09-21  2023  \n",
       "2                   29.01              Yes  2020-12-13  2020  \n",
       "3                  295.43              Yes  2019-04-21  2019  \n",
       "4                   71.78               No  2015-07-14  2015  "
      ]
     },
     "execution_count": 7,
     "metadata": {},
     "output_type": "execute_result"
    }
   ],
   "source": [
    "df.head(5)"
   ]
  },
  {
   "cell_type": "code",
   "execution_count": 8,
   "id": "b56ade74",
   "metadata": {},
   "outputs": [
    {
     "data": {
      "text/html": [
       "<div>\n",
       "<style scoped>\n",
       "    .dataframe tbody tr th:only-of-type {\n",
       "        vertical-align: middle;\n",
       "    }\n",
       "\n",
       "    .dataframe tbody tr th {\n",
       "        vertical-align: top;\n",
       "    }\n",
       "\n",
       "    .dataframe thead th {\n",
       "        text-align: right;\n",
       "    }\n",
       "</style>\n",
       "<table border=\"1\" class=\"dataframe\">\n",
       "  <thead>\n",
       "    <tr style=\"text-align: right;\">\n",
       "      <th></th>\n",
       "      <th>Daily Time Spent (min)</th>\n",
       "      <th>Year</th>\n",
       "    </tr>\n",
       "  </thead>\n",
       "  <tbody>\n",
       "    <tr>\n",
       "      <th>Daily Time Spent (min)</th>\n",
       "      <td>1.000000</td>\n",
       "      <td>-0.014806</td>\n",
       "    </tr>\n",
       "    <tr>\n",
       "      <th>Year</th>\n",
       "      <td>-0.014806</td>\n",
       "      <td>1.000000</td>\n",
       "    </tr>\n",
       "  </tbody>\n",
       "</table>\n",
       "</div>"
      ],
      "text/plain": [
       "                        Daily Time Spent (min)      Year\n",
       "Daily Time Spent (min)                1.000000 -0.014806\n",
       "Year                                 -0.014806  1.000000"
      ]
     },
     "execution_count": 8,
     "metadata": {},
     "output_type": "execute_result"
    }
   ],
   "source": [
    "# Generamos una matriz de correlación\n",
    "\n",
    "correlation_matrix = df.select_dtypes(include='number').corr()\n",
    "correlation_matrix"
   ]
  },
  {
   "cell_type": "code",
   "execution_count": 9,
   "id": "875ad12c",
   "metadata": {},
   "outputs": [
    {
     "data": {
      "image/png": "[encoded data removed]",
      "text/plain": [
       "<Figure size 1500x1000 with 2 Axes>"
      ]
     },
     "metadata": {},
     "output_type": "display_data"
    }
   ],
   "source": [
    "# Visualizamos la matriz de correlación:\n",
    "\n",
    "plt.figure(figsize = (15, 10))\n",
    "\n",
    "sns.heatmap(correlation_matrix, annot=True, cmap='coolwarm', fmt='.2f', linewidths=.5,vmin=-1, vmax=1, mask = np.triu(np.ones_like(correlation_matrix, dtype=bool)))\n",
    "\n",
    "plt.title('Matriz de Correlación entre Variables')\n",
    "\n",
    "plt.show()"
   ]
  },
  {
   "cell_type": "code",
   "execution_count": null,
   "id": "7f37e25a",
   "metadata": {},
   "outputs": [
    {
     "data": {
      "image/png": "[encoded data removed]",
      "text/plain": [
       "<Figure size 2500x2500 with 2 Axes>"
      ]
     },
     "metadata": {},
     "output_type": "display_data"
    }
   ],
   "source": [
    "# Visualizamos la distribución de nuestros datos numéricos:\n",
    "\n",
    "df.hist(bins=20, figsize=(25,25))\n",
    "plt.show()"
   ]
  }
 ],
 "metadata": {
  "kernelspec": {
   "display_name": "base",
   "language": "python",
   "name": "python3"
  },
  "language_info": {
   "codemirror_mode": {
    "name": "ipython",
    "version": 3
   },
   "file_extension": ".py",
   "mimetype": "text/x-python",
   "name": "python",
   "nbconvert_exporter": "python",
   "pygments_lexer": "ipython3",
   "version": "3.12.7"
  }
 },
 "nbformat": 4,
 "nbformat_minor": 5
}
